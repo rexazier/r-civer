{
  "nbformat": 4,
  "nbformat_minor": 0,
  "metadata": {
    "colab": {
      "name": "ARCHIVER.ipynb",
      "provenance": [],
      "collapsed_sections": [
        "tzb5Gn0V_JMX",
        "3kOuK4E2_N7p",
        "3nfzrozb_YwE",
        "97uP-zYq_ZJn",
        "gSP3PtsU_ZeZ"
      ]
    },
    "kernelspec": {
      "name": "python3",
      "display_name": "Python 3"
    },
    "language_info": {
      "name": "python"
    }
  },
  "cells": [
    {
      "cell_type": "markdown",
      "source": [
        "# INIT"
      ],
      "metadata": {
        "id": "tzb5Gn0V_JMX"
      }
    },
    {
      "cell_type": "code",
      "source": [
        "!apt install -y unrar\n",
        "!apt-get remove ffmpeg\n",
        "!add-apt-repository -y ppa:savoury1/ffmpeg5\n",
        "!add-apt-repository -y ppa:savoury1/ffmpeg4\n",
        "!apt install -y ffmpeg\n",
        "!ffmpeg -version\n",
        "# !pip install yt-dlp\n",
        "\n",
        "!wget 'https://github.com/rexazier/ytarchive/releases/download/latest/ytarchive_linux_amd64.zip'\n",
        "!7z e 'ytarchive_linux_amd64.zip' -aoa -o/usr/local/bin/\n",
        "\n",
        "!wget 'https://github.com/Sorrow446/go-upload/releases/download/3/go-ul_linux_x64'\n",
        "!chmod +x /content/go-ul_linux_x64\n",
        "!cp /content/go-ul_linux_x64 /usr/local/bin/go-ul\n",
        "\n",
        "!add-apt-repository --remove ppa:savoury1/ffmpeg5\n",
        "!add-apt-repository --remove ppa:savoury1/ffmpeg4\n",
        "\n",
        "# !MKDIR /content/DL\n",
        "# !MKDIR /content/UL\n",
        "# !MKDIR /content/TEMP"
      ],
      "metadata": {
        "id": "WxRhkas6_kY4"
      },
      "execution_count": null,
      "outputs": []
    },
    {
      "cell_type": "markdown",
      "source": [
        "# EXAMPLE"
      ],
      "metadata": {
        "id": "e5hWMv8F_3Fv"
      }
    },
    {
      "cell_type": "markdown",
      "source": [
        "# CUSTOM"
      ],
      "metadata": {
        "id": "TfoDkWMgAf9Z"
      }
    },
    {
      "cell_type": "code",
      "source": [
        ""
      ],
      "metadata": {
        "id": "r-qMZWWrBttk"
      },
      "execution_count": null,
      "outputs": []
    },
    {
      "cell_type": "markdown",
      "source": [
        "# DOWNLOADER"
      ],
      "metadata": {
        "id": "3kOuK4E2_N7p"
      }
    },
    {
      "cell_type": "code",
      "source": [
        "!ytarchive -v -w --add-metadata --write-thumbnail --thumbnail -o \"DL/youtube/%%(channel_id)s/[%%(upload_date)s] %%(id)s %%(title)s\" --wait --threads 8 '{url}' best\n",
        "!ytarchive -v -w --add-metadata --write-thumbnail --thumbnail -o \"DL/youtube/%%(channel_id)s/[%%(upload_date)s] %%(id)s %%(title)s\" --wait --threads 8 '{url}' audio_only\n",
        "\n",
        "#--hls-segment-threads 4\n",
        "!streamlink -o {time}.ts '{url}' best"
      ],
      "metadata": {
        "id": "Qxa8CDC4AsZC"
      },
      "execution_count": null,
      "outputs": []
    },
    {
      "cell_type": "markdown",
      "source": [
        "# POST-PROCESING"
      ],
      "metadata": {
        "id": "3nfzrozb_YwE"
      }
    },
    {
      "cell_type": "code",
      "source": [
        "!ffprobe 'INPUT'\n",
        "!ffmpeg -hide_banner -i 'INPUT' -c copy -movflags +faststart 'OUPUT'\n",
        "!ffmpeg -hide_banner -i 'INPUT' -vn -c:a copy -movflags +faststart 'OUPUT'\n",
        "\n",
        "!ffmpeg -hide_banner -i 'INPUT' -af 'aresample=48000:resampler=soxr:tsf=fltp:osf=s16:isr=192000:osr=48000:precision=33:cutoff=1:dither_method=triangular' -c:a flac -compression_level 12 -map_metadata -1 'OUPUT'"
      ],
      "metadata": {
        "id": "92PS-by3A6br"
      },
      "execution_count": null,
      "outputs": []
    },
    {
      "cell_type": "markdown",
      "source": [
        "# ARCHIVE"
      ],
      "metadata": {
        "id": "97uP-zYq_ZJn"
      }
    },
    {
      "cell_type": "code",
      "source": [
        "!7za a -t7z 'OUTPUT' 'INPUT'\n",
        "!7z e 'INPUT' 'OUTPUT'\n",
        "!unrar e 'INPUT' 'OUTPUT'"
      ],
      "metadata": {
        "id": "lUr7E-CqA_IN"
      },
      "execution_count": null,
      "outputs": []
    },
    {
      "cell_type": "markdown",
      "source": [
        "# UPLOADER\n"
      ],
      "metadata": {
        "id": "gSP3PtsU_ZeZ"
      }
    },
    {
      "cell_type": "code",
      "source": [
        "#CATBOX\n",
        "!curl -F \"fileToUpload=@FILE\" -F \"reqtype=fileupload\" -F \"userhash=HASH\" https://catbox.moe/user/api.php \n",
        "#TRANSFER\n",
        "!curl --upload-file \"FILE\" \"https://transfer.sh/PASTEHERE\"\n",
        "#ANONFILES\n",
        "!curl -F \"file=@FILE\" https://api.anonfiles.com/upload\n",
        "#GOFILE\n",
        "!curl -F 'file=@FILE' https://store1.gofile.io/uploadFile\n",
        "#GOUL\n",
        "!go-ul pixeldrain gofile anonfiles catbox -f 'FILE'"
      ],
      "metadata": {
        "id": "lz7cDlURBXK8"
      },
      "execution_count": null,
      "outputs": []
    },
    {
      "cell_type": "code",
      "execution_count": null,
      "metadata": {
        "id": "ay-TbrFr_GIv"
      },
      "outputs": [],
      "source": [
        "while True:pass"
      ]
    }
  ]
}